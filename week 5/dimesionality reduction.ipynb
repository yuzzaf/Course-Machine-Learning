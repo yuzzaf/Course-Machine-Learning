{
  "nbformat": 4,
  "nbformat_minor": 0,
  "metadata": {
    "colab": {
      "provenance": [],
      "include_colab_link": true
    },
    "kernelspec": {
      "name": "python3",
      "display_name": "Python 3"
    },
    "language_info": {
      "name": "python"
    }
  },
  "cells": [
    {
      "cell_type": "markdown",
      "metadata": {
        "id": "view-in-github",
        "colab_type": "text"
      },
      "source": [
        "<a href=\"https://colab.research.google.com/github/yuzzaf/Course-Machine-Learning/blob/main/week%205/dimesionality%20reduction.ipynb\" target=\"_parent\"><img src=\"https://colab.research.google.com/assets/colab-badge.svg\" alt=\"Open In Colab\"/></a>"
      ]
    },
    {
      "cell_type": "markdown",
      "source": [
        "## NIM: 1103200082\n",
        "## Name: Muhammad Yuzzaf Ibrahim Azzumarafi\n",
        "## Class: TK-44-06\n"
      ],
      "metadata": {
        "id": "LniECy31Pfr9"
      }
    },
    {
      "cell_type": "code",
      "source": [
        "from google.colab import drive\n",
        "from sklearn import tree\n",
        "drive.mount('/content/drive')"
      ],
      "metadata": {
        "colab": {
          "base_uri": "https://localhost:8080/"
        },
        "id": "X5TUaw4PMGtn",
        "outputId": "3474e477-e8ee-4c15-c362-717d4dd3da63"
      },
      "execution_count": 1,
      "outputs": [
        {
          "output_type": "stream",
          "name": "stdout",
          "text": [
            "Mounted at /content/drive\n"
          ]
        }
      ]
    },
    {
      "cell_type": "code",
      "source": [
        "from sklearn import datasets\n",
        "from sklearn.model_selection import train_test_split\n",
        "\n",
        "iris = datasets.load_iris()\n",
        "atribut = iris.data\n",
        "label = iris.target"
      ],
      "metadata": {
        "id": "JaG8R1EKMpsM"
      },
      "execution_count": 2,
      "outputs": []
    },
    {
      "cell_type": "code",
      "source": [
        "print(f'jumlah baris {len(atribut)}')"
      ],
      "metadata": {
        "colab": {
          "base_uri": "https://localhost:8080/"
        },
        "id": "ktaR6Ha0ND67",
        "outputId": "39038772-b474-484f-e349-056150d444b8"
      },
      "execution_count": 3,
      "outputs": [
        {
          "output_type": "stream",
          "name": "stdout",
          "text": [
            "jumlah baris 150\n"
          ]
        }
      ]
    },
    {
      "cell_type": "code",
      "source": [
        "# bagi dataset menjadi train set dan test set\n",
        "# test size: 20%\n",
        "# training size: 80%\n",
        "# random_state: untuk membuat data test dan training selalu sama set 42\n",
        "X_train, X_test, y_train, y_test = train_test_split(\n",
        "atribut, label, test_size=0.2)"
      ],
      "metadata": {
        "id": "WEA5raidNqld"
      },
      "execution_count": 4,
      "outputs": []
    },
    {
      "cell_type": "code",
      "source": [
        "decision_tree = tree.DecisionTreeClassifier()\n",
        "model_tanpa_dimensionality_reduction = decision_tree.fit(X_train, y_train)\n",
        "model_tanpa_dimensionality_reduction.score(X_test, y_test)"
      ],
      "metadata": {
        "colab": {
          "base_uri": "https://localhost:8080/"
        },
        "id": "EcHTjwmsN4mJ",
        "outputId": "2446a212-9fd2-44db-d9ba-02113855e061"
      },
      "execution_count": 5,
      "outputs": [
        {
          "output_type": "execute_result",
          "data": {
            "text/plain": [
              "0.9"
            ]
          },
          "metadata": {},
          "execution_count": 5
        }
      ]
    },
    {
      "cell_type": "markdown",
      "source": [
        "# Training iris Classification using Decision Tree with Dimensionality reduction"
      ],
      "metadata": {
        "id": "2g3ETHQqPsot"
      }
    },
    {
      "cell_type": "code",
      "source": [
        "from sklearn.decomposition import PCA\n",
        "#membuat objek PCA dengan 4 principal component\n",
        "pca = PCA(n_components=4)\n",
        "#mengaplikasikan PCA pada dataset\n",
        "pca_attributes = pca. fit_transform(X_train)\n",
        "#melihat variance dari setiap atribut\n",
        "pca.explained_variance_ratio_"
      ],
      "metadata": {
        "colab": {
          "base_uri": "https://localhost:8080/"
        },
        "id": "bqDZfGtPPvFw",
        "outputId": "0b2729e1-85ae-4804-d51d-9f38811a21fd"
      },
      "execution_count": 6,
      "outputs": [
        {
          "output_type": "execute_result",
          "data": {
            "text/plain": [
              "array([0.9264032 , 0.05041832, 0.01724825, 0.00593022])"
            ]
          },
          "metadata": {},
          "execution_count": 6
        }
      ]
    },
    {
      "cell_type": "code",
      "source": [
        "#PCA dengan 2 principal component\n",
        "pca = PCA(n_components=2)\n",
        "X_train_pca = pca.fit_transform(X_train)\n",
        "X_test_pca = pca.fit_transform(X_test)"
      ],
      "metadata": {
        "id": "6LNXahstQWo9"
      },
      "execution_count": 7,
      "outputs": []
    },
    {
      "cell_type": "code",
      "source": [
        "#uji akurasi classifier\n",
        "model_with_diminsionality_reduction = decision_tree.fit(X_train_pca, y_train)\n",
        "model_with_diminsionality_reduction.score(X_test_pca, y_test)"
      ],
      "metadata": {
        "colab": {
          "base_uri": "https://localhost:8080/"
        },
        "id": "qZ_Tx3_nQ2Y4",
        "outputId": "e3d28505-1d52-4222-9f26-462b2af3e39c"
      },
      "execution_count": 8,
      "outputs": [
        {
          "output_type": "execute_result",
          "data": {
            "text/plain": [
              "0.8666666666666667"
            ]
          },
          "metadata": {},
          "execution_count": 8
        }
      ]
    }
  ]
}