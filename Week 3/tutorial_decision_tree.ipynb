{
  "nbformat": 4,
  "nbformat_minor": 0,
  "metadata": {
    "colab": {
      "provenance": [],
      "include_colab_link": true
    },
    "kernelspec": {
      "name": "python3",
      "display_name": "Python 3"
    },
    "language_info": {
      "name": "python"
    }
  },
  "cells": [
    {
      "cell_type": "markdown",
      "metadata": {
        "id": "view-in-github",
        "colab_type": "text"
      },
      "source": [
        "<a href=\"https://colab.research.google.com/github/yuzzaf/Course-Machine-Learning/blob/main/Week%203/tutorial_decision_tree.ipynb\" target=\"_parent\"><img src=\"https://colab.research.google.com/assets/colab-badge.svg\" alt=\"Open In Colab\"/></a>"
      ]
    },
    {
      "cell_type": "markdown",
      "source": [
        "Nama : Muhammad Yuzzaf Ibrahim Azzumarafi\n",
        "\n",
        "NIM : 1103200082\n",
        "\n",
        "Kelas : TK4406"
      ],
      "metadata": {
        "id": "kPctHY3wxeRf"
      }
    },
    {
      "cell_type": "code",
      "execution_count": 2,
      "metadata": {
        "colab": {
          "base_uri": "https://localhost:8080/"
        },
        "id": "CUUINq2JD3eG",
        "outputId": "b916f2e7-0bd6-40f1-f785-56590d697288"
      },
      "outputs": [
        {
          "output_type": "stream",
          "name": "stdout",
          "text": [
            "Contoh data iris:\n",
            "Fitur: [5.1 3.5 1.4 0.2], Label: 0\n",
            "Fitur: [4.9 3.  1.4 0.2], Label: 0\n",
            "Fitur: [4.7 3.2 1.3 0.2], Label: 0\n",
            "Fitur: [4.6 3.1 1.5 0.2], Label: 0\n",
            "Fitur: [5.  3.6 1.4 0.2], Label: 0\n"
          ]
        }
      ],
      "source": [
        "from sklearn.datasets import load_iris\n",
        "import pandas as pd\n",
        "from sklearn.tree import DecisionTreeClassifier\n",
        "from sklearn.model_selection import train_test_split\n",
        "from sklearn.metrics import accuracy_score\n",
        "from sklearn.tree import export_graphviz\n",
        "from graphviz import Source\n",
        "# Memuat dataset iris\n",
        "iris = load_iris()\n",
        "# Mengakses data dan target\n",
        "X = iris.data\n",
        "# Fitur-fitur\n",
        "y = iris.target # Label\n",
        "\n",
        "# Tampilkan beberapa contoh data\n",
        "print(\"Contoh data iris:\")\n",
        "for i in range(5):\n",
        "  print(f\"Fitur: {X[i]}, Label: {y[i]}\")"
      ]
    },
    {
      "cell_type": "code",
      "source": [
        "# Membuat DataFrame dari dataset iris\n",
        "iris_df = pd.DataFrame(data=iris.data, columns=iris.feature_names)\n",
        "iris_df['target'] = iris.target\n",
        "# Tampilkan beberapa baris pertama dari DataFrame\n",
        "print(iris_df.head())"
      ],
      "metadata": {
        "colab": {
          "base_uri": "https://localhost:8080/"
        },
        "id": "Sg3DIZXJEq89",
        "outputId": "eb815bd1-0c86-4935-8389-1c69dc3977f4"
      },
      "execution_count": 3,
      "outputs": [
        {
          "output_type": "stream",
          "name": "stdout",
          "text": [
            "   sepal length (cm)  sepal width (cm)  petal length (cm)  petal width (cm)  \\\n",
            "0                5.1               3.5                1.4               0.2   \n",
            "1                4.9               3.0                1.4               0.2   \n",
            "2                4.7               3.2                1.3               0.2   \n",
            "3                4.6               3.1                1.5               0.2   \n",
            "4                5.0               3.6                1.4               0.2   \n",
            "\n",
            "   target  \n",
            "0       0  \n",
            "1       0  \n",
            "2       0  \n",
            "3       0  \n",
            "4       0  \n"
          ]
        }
      ]
    },
    {
      "cell_type": "code",
      "source": [
        "iris_df.info()"
      ],
      "metadata": {
        "colab": {
          "base_uri": "https://localhost:8080/"
        },
        "id": "GyTSrTchFRXP",
        "outputId": "51c15421-9d19-40b3-fa39-c2f6bd601284"
      },
      "execution_count": 4,
      "outputs": [
        {
          "output_type": "stream",
          "name": "stdout",
          "text": [
            "<class 'pandas.core.frame.DataFrame'>\n",
            "RangeIndex: 150 entries, 0 to 149\n",
            "Data columns (total 5 columns):\n",
            " #   Column             Non-Null Count  Dtype  \n",
            "---  ------             --------------  -----  \n",
            " 0   sepal length (cm)  150 non-null    float64\n",
            " 1   sepal width (cm)   150 non-null    float64\n",
            " 2   petal length (cm)  150 non-null    float64\n",
            " 3   petal width (cm)   150 non-null    float64\n",
            " 4   target             150 non-null    int64  \n",
            "dtypes: float64(4), int64(1)\n",
            "memory usage: 6.0 KB\n"
          ]
        }
      ]
    },
    {
      "cell_type": "code",
      "source": [
        "# Menampilkan nilai unik pada kolom target\n",
        "unique_target = iris_df['target'].unique()\n",
        "print(\"Nilai unik pada kolom target:\")\n",
        "print(unique_target)\n",
        "# Menampilkan nilai unik pada kolom fitur\n",
        "unique_sepal_length = iris_df['sepal length (cm)'].unique()\n",
        "unique_sepal_width = iris_df['sepal width (cm)'].unique()\n",
        "unique_petal_length = iris_df['petal length (cm)'].unique()\n",
        "unique_petal_width = iris_df['petal width (cm)'].unique()\n",
        "print(\"\\nNilai unik pada kolom sepal length (cm):\")\n",
        "print (unique_sepal_length)\n",
        "print(\"\\nNilai unik pada kolom sepal width (cm):\")\n",
        "print(unique_sepal_width)\n",
        "print(\"\\nNilai unik pada kolom petal length (cm):\")\n",
        "print(unique_petal_length)\n",
        "print(\"\\nNilai unik pada kolom petal width (cm):\")\n",
        "print(unique_petal_width)"
      ],
      "metadata": {
        "colab": {
          "base_uri": "https://localhost:8080/"
        },
        "id": "9fV1ZRReF3Ye",
        "outputId": "4cd7d936-37c4-491a-91df-38e8c2b3a0ec"
      },
      "execution_count": 5,
      "outputs": [
        {
          "output_type": "stream",
          "name": "stdout",
          "text": [
            "Nilai unik pada kolom target:\n",
            "[0 1 2]\n",
            "\n",
            "Nilai unik pada kolom sepal length (cm):\n",
            "[5.1 4.9 4.7 4.6 5.  5.4 4.4 4.8 4.3 5.8 5.7 5.2 5.5 4.5 5.3 7.  6.4 6.9\n",
            " 6.5 6.3 6.6 5.9 6.  6.1 5.6 6.7 6.2 6.8 7.1 7.6 7.3 7.2 7.7 7.4 7.9]\n",
            "\n",
            "Nilai unik pada kolom sepal width (cm):\n",
            "[3.5 3.  3.2 3.1 3.6 3.9 3.4 2.9 3.7 4.  4.4 3.8 3.3 4.1 4.2 2.3 2.8 2.4\n",
            " 2.7 2.  2.2 2.5 2.6]\n",
            "\n",
            "Nilai unik pada kolom petal length (cm):\n",
            "[1.4 1.3 1.5 1.7 1.6 1.1 1.2 1.  1.9 4.7 4.5 4.9 4.  4.6 3.3 3.9 3.5 4.2\n",
            " 3.6 4.4 4.1 4.8 4.3 5.  3.8 3.7 5.1 3.  6.  5.9 5.6 5.8 6.6 6.3 6.1 5.3\n",
            " 5.5 6.7 6.9 5.7 6.4 5.4 5.2]\n",
            "\n",
            "Nilai unik pada kolom petal width (cm):\n",
            "[0.2 0.4 0.3 0.1 0.5 0.6 1.4 1.5 1.3 1.6 1.  1.1 1.8 1.2 1.7 2.5 1.9 2.1\n",
            " 2.2 2.  2.4 2.3]\n"
          ]
        }
      ]
    },
    {
      "cell_type": "code",
      "source": [
        "# Mendefinisikan kolom atribut (fitur)\n",
        "X = iris_df[['sepal length (cm)', 'sepal width (cm)', 'petal length (cm)', 'petal width (cm)']]\n",
        "# Mendefinisikan kolom target\n",
        "у = iris_df['target']\n",
        "print(X)\n",
        "print(y)"
      ],
      "metadata": {
        "colab": {
          "base_uri": "https://localhost:8080/"
        },
        "id": "zA9p7cFIGJt1",
        "outputId": "04b6e8d0-54a6-4ede-b602-9ec898603e4e"
      },
      "execution_count": 6,
      "outputs": [
        {
          "output_type": "stream",
          "name": "stdout",
          "text": [
            "     sepal length (cm)  sepal width (cm)  petal length (cm)  petal width (cm)\n",
            "0                  5.1               3.5                1.4               0.2\n",
            "1                  4.9               3.0                1.4               0.2\n",
            "2                  4.7               3.2                1.3               0.2\n",
            "3                  4.6               3.1                1.5               0.2\n",
            "4                  5.0               3.6                1.4               0.2\n",
            "..                 ...               ...                ...               ...\n",
            "145                6.7               3.0                5.2               2.3\n",
            "146                6.3               2.5                5.0               1.9\n",
            "147                6.5               3.0                5.2               2.0\n",
            "148                6.2               3.4                5.4               2.3\n",
            "149                5.9               3.0                5.1               1.8\n",
            "\n",
            "[150 rows x 4 columns]\n",
            "[0 0 0 0 0 0 0 0 0 0 0 0 0 0 0 0 0 0 0 0 0 0 0 0 0 0 0 0 0 0 0 0 0 0 0 0 0\n",
            " 0 0 0 0 0 0 0 0 0 0 0 0 0 1 1 1 1 1 1 1 1 1 1 1 1 1 1 1 1 1 1 1 1 1 1 1 1\n",
            " 1 1 1 1 1 1 1 1 1 1 1 1 1 1 1 1 1 1 1 1 1 1 1 1 1 1 2 2 2 2 2 2 2 2 2 2 2\n",
            " 2 2 2 2 2 2 2 2 2 2 2 2 2 2 2 2 2 2 2 2 2 2 2 2 2 2 2 2 2 2 2 2 2 2 2 2 2\n",
            " 2 2]\n"
          ]
        }
      ]
    },
    {
      "cell_type": "code",
      "source": [
        "# Memisahkan data menjadi data latih dan data uji\n",
        "X_train, X_test, y_train, y_test = train_test_split(X, y, test_size=0.2, random_state=0)\n",
        "# Membuat model Decision Tree\n",
        "decision_tree = DecisionTreeClassifier(random_state=42)\n",
        "# Melatih model pada data latih\n",
        "decision_tree.fit(X_train, y_train)\n",
        "# Memprediksi label pada data uji\n",
        "y_pred = decision_tree.predict(X_test)\n",
        "# Menghitung akurasi model\n",
        "accuracy = accuracy_score(y_test, y_pred)\n",
        "print(f\"Akurasi Model Decision Tree: {accuracy * 100:.2f}%\")"
      ],
      "metadata": {
        "colab": {
          "base_uri": "https://localhost:8080/"
        },
        "id": "sbzWgcLTHTj9",
        "outputId": "fa1dab49-c1a4-4d24-e0d7-b91c2a95b512"
      },
      "execution_count": 7,
      "outputs": [
        {
          "output_type": "stream",
          "name": "stdout",
          "text": [
            "Akurasi Model Decision Tree: 100.00%\n"
          ]
        }
      ]
    },
    {
      "cell_type": "code",
      "source": [
        "# Membuat grafik Decision Tree\n",
        "dot_data = export_graphviz(decision_tree, out_file=None,\n",
        "feature_names= ['sepal length (cm)', 'sepal width (cm)', 'petal length (cm)', 'petal width (cm)'],\n",
        "class_names=['setosa', 'versicolor', 'virginica'],\n",
        "filled=True,\n",
        "rounded=True,\n",
        "special_characters=True)"
      ],
      "metadata": {
        "id": "eGwCcYtnJiH1"
      },
      "execution_count": 8,
      "outputs": []
    },
    {
      "cell_type": "code",
      "source": [
        "# Menampilkan grafik menggunakan Graphviz\n",
        "graph = Source(dot_data)\n",
        "graph.render(\"iris_decision tree\") # Simpan sebagai file PDF dengan nama \"iris_dec graph. view(\"iris decision_tree\") + Tampilkan grafik dalam tampilan standar"
      ],
      "metadata": {
        "colab": {
          "base_uri": "https://localhost:8080/",
          "height": 35
        },
        "id": "dpCG55fsLE4T",
        "outputId": "a35cc5b3-41f9-4207-e073-52006b0b9825"
      },
      "execution_count": 9,
      "outputs": [
        {
          "output_type": "execute_result",
          "data": {
            "text/plain": [
              "'iris_decision tree.pdf'"
            ],
            "application/vnd.google.colaboratory.intrinsic+json": {
              "type": "string"
            }
          },
          "metadata": {},
          "execution_count": 9
        }
      ]
    }
  ]
}