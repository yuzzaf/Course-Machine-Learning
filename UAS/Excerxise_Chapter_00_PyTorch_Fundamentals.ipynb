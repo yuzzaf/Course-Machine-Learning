{
  "nbformat": 4,
  "nbformat_minor": 0,
  "metadata": {
    "colab": {
      "provenance": [],
      "toc_visible": true,
      "gpuType": "T4",
      "authorship_tag": "ABX9TyPIJbuBiW+4Au6AAsurVJXI",
      "include_colab_link": true
    },
    "kernelspec": {
      "name": "python3",
      "display_name": "Python 3"
    },
    "language_info": {
      "name": "python"
    },
    "accelerator": "GPU"
  },
  "cells": [
    {
      "cell_type": "markdown",
      "metadata": {
        "id": "view-in-github",
        "colab_type": "text"
      },
      "source": [
        "<a href=\"https://colab.research.google.com/github/yuzzaf/Course-Machine-Learning/blob/main/UAS/Excerxise_Chapter_00_PyTorch_Fundamentals.ipynb\" target=\"_parent\"><img src=\"https://colab.research.google.com/assets/colab-badge.svg\" alt=\"Open In Colab\"/></a>"
      ]
    },
    {
      "cell_type": "markdown",
      "source": [
        "**Nama: Muhammad Yuzzaf Ibrahim Azzumarafi**\n",
        "\n",
        "**NIM: 1103200082**\n",
        "\n",
        "\n",
        "**UAS**\n",
        "\n",
        "\n",
        "#**Chapter 00 PyTorch Fundamentals**\n"
      ],
      "metadata": {
        "id": "2ZJS--ASGksl"
      }
    },
    {
      "cell_type": "markdown",
      "source": [
        "##**Import Pytorch**"
      ],
      "metadata": {
        "id": "15pyQ7yiITWt"
      }
    },
    {
      "cell_type": "markdown",
      "source": [
        "##Introduction Tensor"
      ],
      "metadata": {
        "id": "VnCnyfAeIYf-"
      }
    },
    {
      "cell_type": "markdown",
      "source": [
        "Tensor adalah struktur data dasar yang digunakan untuk menyimpan dan memanipulasi data. Tensor mirip dengan matriks atau array multidimensi, tetapi dengan fleksibilitas tambahan. Tensors dapat memiliki dimensi (rank) yang bervariasi, yang memungkinkan mereka mewakili berbagai jenis data, mulai dari skalar (0D) hingga vektor (1D), matriks (2D), hingga tensor dengan dimensi yang lebih tinggi.\n",
        "\n",
        "Dalam PyTorch, tensor dapat digunakan untuk menyimpan data numerik, dan mereka mendukung operasi matematika yang efisien. Misalnya, tensor dapat digunakan untuk merepresentasikan input dan output dalam jaringan saraf, dan operasi tensor dapat diterapkan untuk melakukan perhitungan yang melibatkan transformasi linier, aktivasi, dan fungsi lainnya.\n",
        "\n",
        "Berikut adalah beberapa contoh operasi yang dapat dilakukan dengan tensor di PyTorch:\n",
        "\n",
        "*   Penjumlahan dan Pengurangan: Menambah atau mengurangkan tensor.\n",
        "*   Perkalian dan Pembagian: Melakukan operasi perkalian atau pembagian dengan tensor.\n",
        "*   Indeks dan Irisan: Mengakses atau memperoleh subset dari tensor menggunakan indeks atau irisan.\n",
        "*   Operasi Matriks: Transposisi, perkalian matriks, dan operasi matriks lainnya.\n",
        "\n",
        "Tensor memberikan abstraksi yang kuat untuk bekerja dengan data numerik dalam konteks machine learning dan deep learning, dan PyTorch memiliki fungsi-fungsi bawaan yang memungkinkan manipulasi tensor dengan cepat dan efisien.\n",
        "\n",
        "Misalnya, Anda dapat mewakili gambar sebagai tensor dengan bentuk yang berarti , karena pada gambar memiliki saluran warna (merah, hijau, biru), tinggi piksel dan lebar piksel.`[3, 224, 224][colour_channels, height, width]` 3 224 224\n",
        "\n",
        "![image.png](http://tinyurl.com/ten-sor)\n",
        "Dalam Bahasa Tensor (the language used to describe tensors), tensor memiliki 3 dimensi, satu untuk `colour_channels`, `height` and `width`.\n",
        "\n",
        "\n"
      ],
      "metadata": {
        "id": "8UgVBGosJTme"
      }
    },
    {
      "cell_type": "markdown",
      "source": [
        "##Excerxise"
      ],
      "metadata": {
        "id": "rqpiughoT2ze"
      }
    },
    {
      "cell_type": "markdown",
      "source": [
        "###1. Import PyTorch"
      ],
      "metadata": {
        "id": "AArlUeg3WWJS"
      }
    },
    {
      "cell_type": "code",
      "execution_count": 2,
      "metadata": {
        "colab": {
          "base_uri": "https://localhost:8080/",
          "height": 35
        },
        "id": "t9xzt-RjGjq0",
        "outputId": "a0c0ab06-49df-403e-c140-44707cf908ef"
      },
      "outputs": [
        {
          "output_type": "execute_result",
          "data": {
            "text/plain": [
              "'2.1.0+cu121'"
            ],
            "application/vnd.google.colaboratory.intrinsic+json": {
              "type": "string"
            }
          },
          "metadata": {},
          "execution_count": 2
        }
      ],
      "source": [
        "#Langkah 1: Import Pytorch\n",
        "import torch\n",
        "torch.__version__"
      ]
    },
    {
      "cell_type": "markdown",
      "source": [
        "\n",
        "\n",
        "```\n",
        "import torch\n",
        "torch.__version__\n",
        "```\n",
        "Prompt ini digunakan untuk import library pytorch dan cek versi dari pytorch yang akan digunakan.\n",
        "\n",
        "Versi PyTorch \"2.1.0+cu121\" memiliki beberapa komponen informasi yang perlu diuraikan:\n",
        "\n",
        "\n",
        "\n",
        "*   Versi PyTorch: \"2.1.0\" adalah nomor versi utama dari framework PyTorch. Versi utama biasanya menunjukkan rilis utama dengan fitur-fitur besar dan perubahan signifikan.\n",
        "*   \n",
        "\"cu121\": Ini merujuk pada versi CUDA yang kompatibel dengan PyTorch. CUDA adalah platform komputasi paralel NVIDIA yang memungkinkan pemrosesan pada unit pemrosesan grafis (GPU). Angka \"cu121\" menunjukkan versi spesifik dari CUDA yang digunakan oleh PyTorch. Dalam konteks ini, cu121 mungkin menunjukkan bahwa PyTorch ini dioptimalkan atau dikompilasi dengan CUDA versi 11.1.\n",
        "\n",
        "Dengan kata lain, versi PyTorch \"2.1.0+cu121\" adalah versi 2.1.0 dari PyTorch yang dioptimalkan untuk bekerja dengan CUDA versi 11.1."
      ],
      "metadata": {
        "id": "Se_uQzfRHDhH"
      }
    },
    {
      "cell_type": "markdown",
      "source": [
        "###2. Create a random tensor with shape (5, 5)."
      ],
      "metadata": {
        "id": "h1RpbFZsUrlq"
      }
    },
    {
      "cell_type": "code",
      "source": [
        "#Langkah 2: Membuat tensor acak dengan bentuk (5, 5)\n",
        "tensor_random = torch.rand((5, 5))\n",
        "print(\"Tensor Random:\")\n",
        "print(tensor_random)"
      ],
      "metadata": {
        "colab": {
          "base_uri": "https://localhost:8080/"
        },
        "id": "ZP_OAr3nT7HM",
        "outputId": "00a1fdde-28d7-4925-a59c-c42e61eda948"
      },
      "execution_count": 3,
      "outputs": [
        {
          "output_type": "stream",
          "name": "stdout",
          "text": [
            "Tensor Random:\n",
            "tensor([[0.1181, 0.8425, 0.2857, 0.8821, 0.6899],\n",
            "        [0.8326, 0.5486, 0.1789, 0.9693, 0.0614],\n",
            "        [0.1282, 0.4121, 0.6586, 0.9687, 0.5189],\n",
            "        [0.7525, 0.3302, 0.5909, 0.6254, 0.1549],\n",
            "        [0.3638, 0.3933, 0.4496, 0.7604, 0.3068]])\n"
          ]
        }
      ]
    },
    {
      "cell_type": "markdown",
      "source": [
        "\n",
        "Tensor yang diberikan adalah matriks 5x5 yang diisi dengan nilai acak antara 0 dan 1. Setiap elemen dalam matriks ini diperoleh secara acak dan independen.\n",
        "\n",
        "\n",
        "\n",
        "```\n",
        "tensor([[0.8310, 0.6656, 0.2738, 0.2169, 0.8778],\n",
        "        [0.8703, 0.2049, 0.4429, 0.6630, 0.5918],\n",
        "        [0.2628, 0.2938, 0.4055, 0.4889, 0.0480],\n",
        "        [0.7309, 0.8305, 0.3950, 0.8399, 0.6490],\n",
        "        [0.7485, 0.8342, 0.7028, 0.8583, 0.0659]])\n",
        "\n",
        "```\n",
        "\n",
        "\n",
        "*   Matriks ini memiliki 5 baris dan 5 kolom, sehingga ukurannya (shape) adalah (5, 5).\n",
        "*   Setiap elemen matriks adalah nilai acak yang diambil dari distribusi uniform antara 0 dan 1. Nilai ini dapat digunakan untuk berbagai tujuan, seperti inisialisasi parameter dalam model machine learning atau percobaan acak.\n",
        "*   Matriks ini dibuat menggunakan fungsi PyTorch torch.rand() yang menghasilkan tensor dengan elemen-elemen yang diambil dari distribusi acak seragam antara 0 dan 1."
      ],
      "metadata": {
        "id": "sdD62dXRWne8"
      }
    },
    {
      "cell_type": "markdown",
      "source": [
        "###3. Perform a matrix multiplication on the tensor from 2 with another random tensor with shape (1, 5) (hint: you may have to transpose the second tensor)"
      ],
      "metadata": {
        "id": "UYMcL6XVXJv8"
      }
    },
    {
      "cell_type": "code",
      "source": [
        "#Langkah 3: Melakukan perkalian matriks pada tensor dari langkah 2 dengan tensor acak lain\n",
        "tensor_2 = torch.rand((1, 5))\n",
        "result = torch.matmul(tensor_random, tensor_2.t())  # Mengubah tensor kedua menjadi transpose\n",
        "print(\"\\nHasil Perkalian Matriks:\")\n",
        "print(result, tensor_2.shape)"
      ],
      "metadata": {
        "colab": {
          "base_uri": "https://localhost:8080/"
        },
        "id": "mNRPK4YcUsFk",
        "outputId": "0ab04a34-3255-48f3-8588-4d8733f1ffab"
      },
      "execution_count": 4,
      "outputs": [
        {
          "output_type": "stream",
          "name": "stdout",
          "text": [
            "\n",
            "Hasil Perkalian Matriks:\n",
            "tensor([[1.0319],\n",
            "        [0.9463],\n",
            "        [1.0258],\n",
            "        [1.0583],\n",
            "        [0.8841]]) torch.Size([1, 5])\n"
          ]
        }
      ]
    },
    {
      "cell_type": "markdown",
      "source": [
        "Hasil tersebut menunjukkan hasil perkalian matriks yang diberikan dalam bentuk tensor. Tensor ini memiliki dimensi atau ukuran torch.Size([1, 5]), yang berarti tensor tersebut merupakan matriks dengan 1 baris dan 5 kolom.\n",
        "\n",
        "Setiap elemen di dalam matriks tersebut adalah hasil perkalian matriks sebelumnya. Jika Anda memiliki dua matriks, katakanlah A dengan dimensi m x n dan B dengan dimensi n x p, maka hasil perkalian matriks AB akan menghasilkan matriks dengan dimensi m x p. Dalam kasus ini, matriks inputnya mungkin memiliki dimensi 1 x n, dan hasil perkalian tersebut adalah matriks 1 x p.\n",
        "\n",
        "Namun, tanpa informasi lebih lanjut tentang matriks input dan operasi perkalian matriks yang dilakukan, sulit untuk memberikan penjelasan lebih lanjut tentang makna sebenarnya dari hasil tersebut. Jika Anda memiliki matriks input dan operasi perkalian matriks yang digunakan, saya dapat memberikan penjelasan lebih rinci."
      ],
      "metadata": {
        "id": "OWREcyYNV6_W"
      }
    },
    {
      "cell_type": "markdown",
      "source": [
        "###4. Set the random seed to 0 and do 2 & 3 over again."
      ],
      "metadata": {
        "id": "NbyPg00UXIJZ"
      }
    },
    {
      "cell_type": "code",
      "source": [
        "# Langkah 4: Mengatur benih acak menjadi 0 dan melakukan langkah 2 & 3 lagi\n",
        "#Create Manual Seed\n",
        "torch.manual_seed(0)\n",
        "\n",
        "tensor_random = torch.rand((5, 5))\n",
        "result = torch.matmul(tensor_random, tensor_2.t())\n",
        "print(\"\\nHasil Perkalian Matriks setelah Mengatur Benih Acak:\")\n",
        "print(result, result.shape)"
      ],
      "metadata": {
        "colab": {
          "base_uri": "https://localhost:8080/"
        },
        "id": "WHKTZXblV7Uo",
        "outputId": "757a5b06-a3db-40f2-cb40-377508f95789"
      },
      "execution_count": 5,
      "outputs": [
        {
          "output_type": "stream",
          "name": "stdout",
          "text": [
            "\n",
            "Hasil Perkalian Matriks setelah Mengatur Benih Acak:\n",
            "tensor([[0.7345],\n",
            "        [1.5063],\n",
            "        [0.5895],\n",
            "        [0.9937],\n",
            "        [1.2397]]) torch.Size([5, 1])\n"
          ]
        }
      ]
    },
    {
      "cell_type": "markdown",
      "source": [
        "Pertama, perintah `torch.manual_seed(0)` mengatur benih acak PyTorch sehingga menghasilkan angka acak yang konsisten setiap kali kode dijalankan.\n",
        "\n",
        "Selanjutnya, `tensor_random = torch.rand((5, 5))` membuat matriks acak berukuran 5x5 yang berisi nilai-nilai acak antara 0 dan 1.\n",
        "\n",
        "Kemudian, `result = torch.matmul(tensor_random, tensor_2.t())` melakukan perkalian matriks antara tensor_random dengan transpos dari tensor_2. Hasil perkalian matriks ini disimpan dalam variabel result.\n",
        "\n",
        "Akhirnya,`print(result, result.shape)` mencetak hasil perkalian matriks beserta bentuk `(shape)` dari tensor tersebut. Hasilnya adalah matriks kolom dengan 5 baris dan 1 kolom, yang sesuai dengan dimensi yang dicetak `(torch.Size([5, 1]))`.\n",
        "\n",
        "Jadi, hasil perkalian matriks tersebut adalah matriks kolom dengan 5 baris dan 1 kolom yang diperoleh dari perkalian matriks tensor_random dengan transpos dari tensor_2."
      ],
      "metadata": {
        "id": "jjPDrbHvZZC_"
      }
    },
    {
      "cell_type": "markdown",
      "source": [
        "###5. Speaking of random seeds, we saw how to set it with torch.manual_seed() but is there a GPU equivalent? (hint: you'll need to look into the documentation for torch.cuda for this one)"
      ],
      "metadata": {
        "id": "u0O1H_kKZkHJ"
      }
    },
    {
      "cell_type": "code",
      "source": [
        "# Langkah 5: Menyetel benih acak GPU ke 1234\n",
        "torch.cuda.manual_seed(1234)"
      ],
      "metadata": {
        "id": "_0SknYyDYaY7"
      },
      "execution_count": 6,
      "outputs": []
    },
    {
      "cell_type": "markdown",
      "source": [
        "\n",
        "`torch.cuda.manual_seed(1234)` adalah perintah yang digunakan dalam lingkungan PyTorch untuk mengatur benih `(seed)` acak pada perangkat `CUDA (Compute Unified Device Architecture)`, yang digunakan untuk komputasi pada GPU. Dengan mengatur benih acak, Anda dapat mengontrol hasil angka acak yang dihasilkan oleh operasi-acak pada GPU, sehingga hasilnya dapat direproduksi secara konsisten.\n",
        "\n",
        "Dalam konteks ini:\n",
        "\n",
        "\n",
        "*   `torch.cuda.manual_seed()` digunakan untuk mengatur benih acak pada perangkat `CUDA (GPU)`.\n",
        "*   `Angka 1234` adalah nilai benih yang ditetapkan. Mengatur benih dengan nilai tertentu memungkinkan Anda mendapatkan hasil acak yang sama setiap kali kode dijalankan, asalkan pengaturan benih yang sama juga digunakan pada operasi-acak lainnya."
      ],
      "metadata": {
        "id": "dQrau8YDZ91Z"
      }
    },
    {
      "cell_type": "markdown",
      "source": [
        "###6. Create two random tensors of shape (2, 3) and send them both to the GPU (you'll need access to a GPU for this). Set torch.manual_seed(1234) when creating the tensors (this doesn't have to be the GPU random seed). The output should be something like:"
      ],
      "metadata": {
        "id": "AqGO8S9VZ6Jo"
      }
    },
    {
      "cell_type": "code",
      "source": [
        "# Langkah 6: Membuat dua tensor acak dengan bentuk (2, 3) dan mengirimkannya ke GPU\n",
        "torch.manual_seed(1234)\n",
        "\n",
        "# Check for access to GPU\n",
        "device = \"cuda\" if torch.cuda.is_available() else \"cpu\"\n",
        "print(f\"Device: {device}\")\n",
        "\n",
        "# Create two random tensors on GPU\n",
        "tensor_gpu_1 = torch.rand((2, 3), device='cuda')\n",
        "tensor_gpu_2 = torch.rand((2, 3), device='cuda')\n",
        "tensor_gpu_1,tensor_gpu_2"
      ],
      "metadata": {
        "colab": {
          "base_uri": "https://localhost:8080/"
        },
        "id": "dCeTq3UAZ8g4",
        "outputId": "26911946-8871-4ac0-f914-cd31e5d0e2e0"
      },
      "execution_count": 10,
      "outputs": [
        {
          "output_type": "stream",
          "name": "stdout",
          "text": [
            "Device: cuda\n"
          ]
        },
        {
          "output_type": "execute_result",
          "data": {
            "text/plain": [
              "(tensor([[0.1272, 0.8167, 0.5440],\n",
              "         [0.6601, 0.2721, 0.9737]], device='cuda:0'),\n",
              " tensor([[0.6208, 0.0276, 0.3255],\n",
              "         [0.1114, 0.6812, 0.3608]], device='cuda:0'))"
            ]
          },
          "metadata": {},
          "execution_count": 10
        }
      ]
    },
    {
      "cell_type": "markdown",
      "source": [
        "Output yang Anda berikan mencakup dua tensor, dan keduanya memiliki perangkat CUDA ('cuda:0') sebagai tempat penyimpanan. Hal ini menunjukkan bahwa operasi atau inisialisasi tensor tersebut terjadi pada perangkat GPU (CUDA).\n",
        "\n",
        "Berikut adalah penjelasan rinci untuk setiap tensor:\n",
        "\n",
        "\n",
        "\n",
        "1.   Tensor pertama:\n",
        "```\n",
        "tensor([[0.1272, 0.8167, 0.5440],\n",
        "        [0.6601, 0.2721, 0.9737]], device='cuda:0')\n",
        "```\n",
        "Ini adalah tensor 2D dengan bentuk (shape) 2x3, yang berisi nilai-nilai acak. Tensor ini berada pada perangkat CUDA ('cuda:0'), yang berarti ia disimpan dan dioperasikan pada GPU.\n",
        "\n",
        "2.   Tensor kedua:\n",
        "```\n",
        "# tensor([[0.6208, 0.0276, 0.3255],\n",
        "        [0.1114, 0.6812, 0.3608]], device='cuda:0')\n",
        "```\n",
        "Ini juga adalah tensor 2D dengan bentuk 2x3 dan berisi nilai-nilai acak. Seperti tensor pertama, tensor kedua juga berada pada perangkat CUDA ('cuda:0').\n",
        "\n",
        "Jadi, keseluruhan output menunjukkan dua tensor 2D dengan nilai-nilai acak yang diinisialisasi pada perangkat GPU. Kode atau operasi sebelum output ini dapat memberikan konteks lebih lanjut tentang bagaimana tensor-tensor ini dibuat atau dimanipulasi.\n",
        "\n",
        "\n"
      ],
      "metadata": {
        "id": "j11Ywpj9bkvv"
      }
    },
    {
      "cell_type": "markdown",
      "source": [
        "###7. Perform a matrix multiplication on the tensors you created in 6 (again, you may have to adjust the shapes of one of the tensors)."
      ],
      "metadata": {
        "id": "vZmulqzQcAqc"
      }
    },
    {
      "cell_type": "code",
      "source": [
        "# Langkah 7: Melakukan perkalian matriks pada tensor yang dibuat dalam langkah 6\n",
        "result_gpu = torch.matmul(tensor_gpu_1, tensor_gpu_2.t())  # Mengubah tensor kedua menjadi transpose\n",
        "print(\"\\nHasil Perkalian Matriks pada GPU:\")\n",
        "print(result_gpu, result_gpu.shape)"
      ],
      "metadata": {
        "colab": {
          "base_uri": "https://localhost:8080/"
        },
        "id": "_tecqeghcATm",
        "outputId": "1255e18d-3596-44cd-958e-933e8a9d78ae"
      },
      "execution_count": 12,
      "outputs": [
        {
          "output_type": "stream",
          "name": "stdout",
          "text": [
            "\n",
            "Hasil Perkalian Matriks pada GPU:\n",
            "tensor([[0.2786, 0.7668],\n",
            "        [0.7343, 0.6102]], device='cuda:0') torch.Size([2, 2])\n"
          ]
        }
      ]
    },
    {
      "cell_type": "markdown",
      "source": [
        "\n",
        "Hasil perkalian matriks `tensor_gpu_1 dan tensor_gpu_2.t` yang diberikan adalah tensor 2D dengan bentuk (shape) [2, 2]. Ini menunjukkan bahwa hasilnya adalah matriks berukuran 2x2. Tensor ini juga memiliki atribut device='cuda:0', yang berarti tensor tersebut disimpan dan dioperasikan pada perangkat GPU (CUDA) dengan ID 'cuda:0'."
      ],
      "metadata": {
        "id": "-RCKy8LbcpdP"
      }
    },
    {
      "cell_type": "markdown",
      "source": [
        "###8. Find the maximum and minimum values of the output of 7."
      ],
      "metadata": {
        "id": "FTRivd_rcrXr"
      }
    },
    {
      "cell_type": "code",
      "source": [
        "# Langkah 8: Mencari nilai maksimum dan minimum dari output langkah 7\n",
        "max_value = torch.max(result_gpu)\n",
        "min_value = torch.min(result_gpu)\n",
        "print(\"\\nNilai Maksimum:\", max_value.item())\n",
        "print(\"Nilai Minimum:\", min_value.item())"
      ],
      "metadata": {
        "colab": {
          "base_uri": "https://localhost:8080/"
        },
        "id": "oAMGLMJ2dQA7",
        "outputId": "f28716f1-373b-451d-c105-2f8cb9fb1ead"
      },
      "execution_count": 13,
      "outputs": [
        {
          "output_type": "stream",
          "name": "stdout",
          "text": [
            "\n",
            "Nilai Maksimum: 0.7667766809463501\n",
            "Nilai Minimum: 0.27863210439682007\n"
          ]
        }
      ]
    },
    {
      "cell_type": "markdown",
      "source": [
        "*   torch.max(result_gpu): Ini menghitung nilai maksimum dari seluruh elemen dalam\n",
        "tensor result_gpu. Hasilnya disimpan dalam variabel max_value.\n",
        "*   torch.min(result_gpu): Ini menghitung nilai minimum dari seluruh elemen dalam tensor result_gpu. Hasilnya disimpan dalam variabel min_value.\n",
        "\n",
        "Jadi, setelah menjalankan kode tersebut, max_value akan berisi nilai maksimum dari tensor result_gpu, dan min_value akan berisi nilai minimum dari tensor tersebut. Dalam konteks ini, result_gpu mungkin adalah tensor hasil perkalian matriks yang dioperasikan pada GPU, seperti yang telah Anda tunjukkan sebelumnya.\n",
        "\n",
        "Informasi ini memberikan nilai maksimum dan minimum dari elemen-elemen dalam tensor. Dalam konteks ini, tensor yang dimaksud adalah hasil dari operasi perkalian matriks yang dilakukan pada GPU"
      ],
      "metadata": {
        "id": "iEqZirFOdkFo"
      }
    },
    {
      "cell_type": "markdown",
      "source": [
        "###9. Find the maximum and minimum index values of the output of 7."
      ],
      "metadata": {
        "id": "MiOBiUnRdlLm"
      }
    },
    {
      "cell_type": "code",
      "source": [
        "# Langkah 9: Mencari nilai indeks maksimum dan minimum dari output langkah 7\n",
        "argmax_index = torch.argmax(result_gpu)\n",
        "argmin_index = torch.argmin(result_gpu)\n",
        "print(\"\\nIndeks Maksimum:\", argmax_index.item())\n",
        "print(\"Indeks Minimum:\", argmin_index.item())"
      ],
      "metadata": {
        "colab": {
          "base_uri": "https://localhost:8080/"
        },
        "id": "PnESX7UPeJob",
        "outputId": "982cf50a-1fb6-471f-f48d-2ad221fa0af9"
      },
      "execution_count": 14,
      "outputs": [
        {
          "output_type": "stream",
          "name": "stdout",
          "text": [
            "\n",
            "Indeks Maksimum: 1\n",
            "Indeks Minimum: 0\n"
          ]
        }
      ]
    },
    {
      "cell_type": "markdown",
      "source": [
        "Kode tersebut menghitung indeks (posisi) dari nilai maksimum dan minimum dalam tensor result_gpu.\n",
        "\n",
        "1.   torch.argmax(result_gpu): Ini mengembalikan indeks dari nilai maksimum dalam tensor result_gpu. Jadi, argmax_index akan berisi indeks dari nilai maksimum dalam tensor tersebut.\n",
        "2.   torch.argmin(result_gpu): Ini mengembalikan indeks dari nilai minimum dalam tensor result_gpu. Jadi, argmin_index akan berisi indeks dari nilai minimum dalam tensor tersebut.\n",
        "\n",
        "\n",
        "Kode tersebut menghitung indeks (posisi) dari nilai maksimum dan minimum dalam tensor result_gpu. Berikut adalah penjelasan singkat untuk setiap baris kode:\n",
        "\n",
        "python\n",
        "Copy code\n",
        "argmax_index = torch.argmax(result_gpu)\n",
        "argmin_index = torch.argmin(result_gpu)\n",
        "torch.argmax(result_gpu): Ini mengembalikan indeks dari nilai maksimum dalam tensor result_gpu. Jadi, argmax_index akan berisi indeks dari nilai maksimum dalam tensor tersebut.\n",
        "\n",
        "torch.argmin(result_gpu): Ini mengembalikan indeks dari nilai minimum dalam tensor result_gpu. Jadi, argmin_index akan berisi indeks dari nilai minimum dalam tensor tersebut.\n",
        "\n",
        "Ketika kita memiliki tensor, argmax dan argmin berguna untuk mengetahui di mana posisi nilai maksimum dan minimum dalam tensor tersebut. Misalnya, jika argmax_index adalah (i, j), maka nilai maksimum terletak di baris ke-i dan kolom ke-j dalam tensor result_gpu. Begitu pula untuk argmin_index yang akan memberikan posisi nilai minimum dalam tensor tersebut.\n",
        "\n",
        "Jadi, setelah menjalankan kode tersebut, argmax_index dan argmin_index akan berisi indeks dari nilai maksimum dan minimum dalam tensor result_gpu.\n",
        "\n"
      ],
      "metadata": {
        "id": "Ejt8J0sOeJBE"
      }
    },
    {
      "cell_type": "markdown",
      "source": [
        "###10. Make a random tensor with shape (1, 1, 1, 10) and then create a new tensor with all the 1 dimensions removed to be left with a tensor of shape (10). Set the seed to 7 when you create it and print out the first tensor and it's shape as well as the second tensor and it's shape."
      ],
      "metadata": {
        "id": "bb7hkLU8eVIk"
      }
    },
    {
      "cell_type": "code",
      "source": [
        "# Langkah 10: Membuat tensor acak dengan bentuk (1, 1, 1, 10) dan menghapus semua dimensi 1\n",
        "torch.manual_seed(7)\n",
        "tensor_random_4d = torch.rand((1, 1, 1, 10))\n",
        "tensor_flat = tensor_random_4d.view(-1)\n",
        "print(\"\\nTensor Pertama dan Bentuknya:\")\n",
        "print(tensor_random_4d)\n",
        "print(tensor_random_4d.shape)\n",
        "print(\"\\nTensor Kedua dan Bentuknya setelah Menghapus Dimensi 1:\")\n",
        "print(tensor_flat)\n",
        "print(tensor_flat.shape)"
      ],
      "metadata": {
        "colab": {
          "base_uri": "https://localhost:8080/"
        },
        "id": "eXVERYWXeWoX",
        "outputId": "d993a830-49b1-4050-cdfa-00800196638b"
      },
      "execution_count": 15,
      "outputs": [
        {
          "output_type": "stream",
          "name": "stdout",
          "text": [
            "\n",
            "Tensor Pertama dan Bentuknya:\n",
            "tensor([[[[0.5349, 0.1988, 0.6592, 0.6569, 0.2328, 0.4251, 0.2071, 0.6297,\n",
            "           0.3653, 0.8513]]]])\n",
            "torch.Size([1, 1, 1, 10])\n",
            "\n",
            "Tensor Kedua dan Bentuknya setelah Menghapus Dimensi 1:\n",
            "tensor([0.5349, 0.1988, 0.6592, 0.6569, 0.2328, 0.4251, 0.2071, 0.6297, 0.3653,\n",
            "        0.8513])\n",
            "torch.Size([10])\n"
          ]
        }
      ]
    },
    {
      "cell_type": "markdown",
      "source": [
        "Penjelasan ini memberikan informasi tentang dua tensor dan perubahan bentuk (shape) yang terjadi. Mari kita jelaskan masing-masing bagian:\n",
        "\n",
        "\n",
        "**Tensor Pertama dan Bentuknya:**\n",
        "```\n",
        "tensor([[[[0.5349, 0.1988, 0.6592, 0.6569, 0.2328, 0.4251, 0.2071, 0.6297,\n",
        "           0.3653, 0.8513]]]])\n",
        "torch.Size([1, 1, 1, 10])\n",
        "\n",
        "```\n",
        "\n",
        "\n",
        "\n",
        "*   Tensor Pertama: Ini adalah tensor 4D. Nilai-nilai elemennya berada di dalam empat dimensi dengan panjang 1 pada setiap dimensi. Masing-masing dimensi adalah (1, 1, 1, 10).\n",
        "*   Bentuk Tensor Pertama: [1, 1, 1, 10] menunjukkan bahwa tensor ini memiliki dimensi 1 pada dimensi pertama, 1 pada dimensi kedua, 1 pada dimensi ketiga, dan 10 pada dimensi keempat.\n",
        "\n",
        "\n",
        "**Tensor Kedua dan Bentuknya setelah Menghapus Dimensi 1:**\n",
        "\n",
        "```\n",
        "tensor([0.5349, 0.1988, 0.6592, 0.6569, 0.2328, 0.4251, 0.2071, 0.6297, 0.3653,\n",
        "        0.8513])\n",
        "torch.Size([10])\n",
        "\n",
        "```\n",
        "\n",
        "*   Tensor Kedua: Setelah menghapus dimensi yang memiliki panjang 1, tensor ini menjadi tensor 1D. Ini adalah daftar nilai tunggal tanpa dimensi tambahan.\n",
        "*   Bentuk Tensor Kedua: [10] menunjukkan bahwa tensor ini sekarang hanya memiliki satu dimensi dengan panjang 10.\n",
        "\n",
        "Jadi, perubahan dari tensor pertama ke tensor kedua melibatkan penghapusan dimensi yang memiliki panjang 1, menghasilkan tensor dengan dimensi yang lebih rendah.\n",
        "\n",
        "\n",
        "\n",
        "\n"
      ],
      "metadata": {
        "id": "pe6BY-GQfS2V"
      }
    }
  ]
}